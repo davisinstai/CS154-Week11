{
  "cells": [
    {
      "cell_type": "markdown",
      "metadata": {
        "id": "TgTMdxc9id4-"
      },
      "source": [
        "# Efficiency and Complexity"
      ]
    },
    {
      "cell_type": "markdown",
      "metadata": {
        "id": "1ndsoWJbignb"
      },
      "source": [
        "# The key terms for today\n",
        "\n",
        "* Big O notation\n",
        "* complexity"
      ]
    },
    {
      "cell_type": "markdown",
      "metadata": {
        "id": "9PyqILe7nHqp"
      },
      "source": [
        "# Review\n",
        "\n",
        "We have spoken several times about the python 'heap'. \n",
        "\n",
        "* How do you get the ID of a python object in the heap?\n",
        "* What happens when you copy a simple python data type?\n",
        "* What happens when you copy a complex python data type?\n",
        "\n",
        "We have also used the timer to time the running of python code.\n",
        "\n",
        "Finally, we have noticed that sometimes space and time complexity add up: for example, if you want to run one sentence through a huggingface transformers model, it will take a lot longer than running that same sentence through a string function built into python because of the time required to load the model."
      ]
    },
    {
      "cell_type": "markdown",
      "metadata": {
        "id": "PEDOI3z6ooMp"
      },
      "source": [
        "# Why worry about program efficiency?\n",
        "\n",
        "Computers are getting faster, but so are the datasets on which the program needs to operate, so code needs to run fast.\n",
        "\n",
        "Just as we think about writing the shortest most readable code, so we need to think about program efficiency."
      ]
    },
    {
      "cell_type": "markdown",
      "metadata": {
        "id": "V5Vg6_6gpnKf"
      },
      "source": [
        "# Ways to assess code efficiency\n",
        "\n",
        "1. measure with timer to track how long it takes\n",
        "2. count the number of operations (comparisons, math operation, assignment, etc.)\n",
        "3. calculate execution time for a range of input size to understand how it **scales** or **grows**"
      ]
    },
    {
      "cell_type": "markdown",
      "metadata": {
        "id": "mTvrgwFGrqbX"
      },
      "source": [
        "## Option 1: measure with timer to track how long it takes"
      ]
    },
    {
      "cell_type": "code",
      "execution_count": 6,
      "metadata": {
        "colab": {
          "base_uri": "https://localhost:8080/"
        },
        "id": "orhPP2M2izus",
        "outputId": "518e1f40-3cc4-4ece-af5c-4ce6dc0af5b5"
      },
      "outputs": [
        {
          "name": "stdout",
          "output_type": "stream",
          "text": [
            "3.0157752979998804\n"
          ]
        }
      ],
      "source": [
        "import timeit\n",
        "# you could also use %timeit\n",
        "\n",
        "def temporary_function():\n",
        "    for j in range(100):\n",
        "        j += 1\n",
        "    \n",
        "print(timeit.timeit(temporary_function))\n"
      ]
    },
    {
      "cell_type": "markdown",
      "metadata": {
        "id": "QikYX0MDrpWy"
      },
      "source": [
        "Problems with this option:\n",
        "\n",
        "* running time varies between implementations\n",
        "* running time varies between computers\n",
        "* time  varies for different inputs but cannot really express a relationship between input size and time"
      ]
    },
    {
      "cell_type": "markdown",
      "metadata": {
        "id": "A4Tx3tPCsYzn"
      },
      "source": [
        "## Option 2: count the number of operations executed as function of size of input\n",
        "\n",
        "Look at `spacy_on_corpus.py`. \n",
        "\n",
        "* How many operations are the method `get_token_counts`?\n",
        "* How about `get_basic_statistics`?\n",
        "\n"
      ]
    },
    {
      "cell_type": "markdown",
      "metadata": {
        "id": "P5wkfx7Ct5Gr"
      },
      "source": [
        "Problems with this option:\n",
        "\n",
        "* No clear definition of which operation to count and how that improves or reduces program efficiency\n",
        "* You have to be able to get inside each function called in the function you are evaluating\n"
      ]
    },
    {
      "cell_type": "markdown",
      "metadata": {
        "id": "DmX0gR23uOni"
      },
      "source": [
        "## Goal for Efficiency\n",
        "\n",
        "* Need to evaluate algorithms\n",
        "* Need to define efficiency in terms of size of input $n$\n",
        "* Look for which section of the program will take the longest to run"
      ]
    },
    {
      "cell_type": "markdown",
      "metadata": {
        "id": "Wvw2aTLbvp1O"
      },
      "source": [
        "## Option 3: Order of Growth\n",
        "\n",
        "A key problem with options 1 and 2 is that different inputs change the code efficiency. That seems wrong! \n",
        "\n",
        "One more example: a function that searches for a user in a list using linear search:\n",
        "\n",
        "  * when the user is the first element (best case) --- constant time\n",
        "  * when the user is not in the list (worst case) --- must go through entire list, still not find it.\n",
        "  * when the user is found in about half way through the list (average case) --- with average effort result obtained\n",
        "\n",
        "It would be nice to be able to quantify the improvement of binary search over linear search in some abstract way.\n",
        "\n",
        "Basically, we can focus on the **worst case**. We want to know the \"upper bound\" on the time. To do this we will use **big O** notation.\n",
        "\n"
      ]
    },
    {
      "cell_type": "markdown",
      "metadata": {
        "id": "B0c_CSWFCV0R"
      },
      "source": [
        "## Steps to get `O()`\n",
        "\n",
        "* We will consider the number of steps\n",
        "\n",
        "* We will assume lines of code that do arithmetic take constant time, since the computer can make those very efficient\n",
        "\n",
        "* Will focus on the part of the code that grows most rapidly"
      ]
    },
    {
      "cell_type": "markdown",
      "metadata": {},
      "source": [
        "What is the big O complexity for the function `temporary_function` above?\n",
        "\n",
        "What about `get_token_counts`?\n",
        "\n",
        "What about `get_basic_statistics`?"
      ]
    },
    {
      "cell_type": "markdown",
      "metadata": {
        "id": "qbchn7bwDSXy"
      },
      "source": [
        "## Analysis of algorithms and their complexity (by the order of complexity)\n",
        "\n",
        "* O(1) denotes constant running time\n",
        "\n",
        "* O(log n) denotes logarithmic running time\n",
        "\n",
        "* O(n) denotes linear running time\n",
        "\n",
        "* O(n log n) denotes log-linear running time\n",
        "\n",
        "* O($x^c$) denotes polynomial running time (c is a constant)\n",
        "\n",
        "* O($2^x$) denotes exponential running time (c is a constant being raised to a power based on size of input)\n",
        "\n",
        "[Time complexity chart](https://images.app.goo.gl/ZnK7LYisEtLNSSMZ7)"
      ]
    },
    {
      "cell_type": "markdown",
      "metadata": {
        "id": "ImuilcEPFoMp"
      },
      "source": [
        "## O(n) Linear complexity\n",
        "\n",
        "Simple iterative loop algorithms are typically linear in complexity."
      ]
    },
    {
      "cell_type": "markdown",
      "metadata": {
        "id": "GkitLLneF1jF"
      },
      "source": [
        "### Try\n",
        "\n",
        "1. You are trying to search an element in a list of $n$. What will be the order of time complexity for this task?"
      ]
    },
    {
      "cell_type": "markdown",
      "metadata": {
        "id": "7FXn_aJRGK8n"
      },
      "source": [
        "Your answer"
      ]
    },
    {
      "cell_type": "markdown",
      "metadata": {
        "id": "wV_UNmRwGhj_"
      },
      "source": [
        "2. Consider the following program. What is the order of complexity?\n",
        "\n",
        "Hint:\n",
        "\n",
        "* complexity often depends on number of iterations\n",
        "\n",
        "* beware of nested loops"
      ]
    },
    {
      "cell_type": "code",
      "execution_count": null,
      "metadata": {
        "id": "gavUmOc8Gb3r"
      },
      "outputs": [],
      "source": [
        "def fact_iter(n):\n",
        "    prod = 1\n",
        "    for i in range(1, n+1):\n",
        "        prod *= i\n",
        "    return prod\n"
      ]
    },
    {
      "cell_type": "markdown",
      "metadata": {
        "id": "HlYeq3VuGOjT"
      },
      "source": [
        "Your answer"
      ]
    },
    {
      "cell_type": "markdown",
      "metadata": {
        "id": "YcDuzE8QHDLA"
      },
      "source": [
        "## O($n^2$) Quadratic Complexity\n",
        "\n",
        "* nested loops\n",
        "* iterating $n$ times for each loop\n",
        "* O(n*n) = O($n^2$)"
      ]
    },
    {
      "cell_type": "markdown",
      "metadata": {
        "id": "qoiQmen_HrqX"
      },
      "source": [
        "## O($logn$) Logarithmic Complexity\n",
        "\n",
        "Complexity grows as $log$ of the size of input, $n$\n",
        "\n",
        "* this problem type usually is solved by divide and conquer\n",
        "\n",
        "* break the problem into smaller version of the original (familiar?)"
      ]
    },
    {
      "cell_type": "markdown",
      "metadata": {
        "id": "30TG3ByBIz8j"
      },
      "source": [
        "## Try\n",
        "\n",
        "1. Consider the two implementation for factorial function, iterative and recursive."
      ]
    },
    {
      "cell_type": "code",
      "execution_count": null,
      "metadata": {
        "id": "Yr3rBeBRtVwI"
      },
      "outputs": [],
      "source": [
        "## iterative\n",
        "def fact_iter(n):\n",
        "    prod = 1\n",
        "    for i in range(1, n+1):\n",
        "        prod *= i\n",
        "    return prod\n",
        "\n",
        "#recursive\n",
        "def fact_recur(n):\n",
        "    #assume n >= 0\n",
        "    if n <= 1:\n",
        "        return 1\n",
        "    else:\n",
        "        return n*fact_recur(n-1)\n"
      ]
    },
    {
      "cell_type": "markdown",
      "metadata": {
        "id": "1sviv1qkJTTj"
      },
      "source": [
        "**What is the order of growth for these two implementations?**"
      ]
    },
    {
      "cell_type": "markdown",
      "metadata": {
        "id": "C3bopqIqJbLa"
      },
      "source": [
        "Your answer"
      ]
    },
    {
      "cell_type": "markdown",
      "metadata": {
        "id": "k5grqS1gJpRQ"
      },
      "source": [
        "2. Consider the recursive fibonacci function we have discussion in the lecture on Recursion.\n",
        "\n",
        "What is the worst case complexity?\n",
        "\n",
        "Hint: You can use [this visualization](https://observablehq.com/@victormutai/visualizing-recursive-fibonacci-algorithm) to track how the program progresses"
      ]
    },
    {
      "cell_type": "code",
      "execution_count": null,
      "metadata": {
        "id": "DHntNTmgJP5x"
      },
      "outputs": [],
      "source": [
        "def fib_recur(n):\n",
        "    if n == 0:\n",
        "        return 0\n",
        "    elif n == 1:\n",
        "        return 1\n",
        "    else:\n",
        "        return fib_recur(n-1) + fib_recur(n-2)"
      ]
    },
    {
      "cell_type": "markdown",
      "metadata": {
        "id": "cdE-XdewKpSm"
      },
      "source": [
        "Your answer\n",
        "\n",
        "Show any calculations that you did."
      ]
    },
    {
      "cell_type": "markdown",
      "metadata": {
        "id": "kqhG-AfEMYAM"
      },
      "source": [
        "# Resources\n",
        "\n",
        "* This notebook is Dr Chowdhury's lecture on program complexity.\n",
        "* [Python tutor to visualize execution](https://pythontutor.com/render.html#mode=display)\n",
        "* [Khan Academy Analysis of algorithms](https://www.khanacademy.org/computing/ap-computer-science-principles/algorithms-101/evaluating-algorithms/a/measuring-an-algorithms-efficiency)"
      ]
    }
  ],
  "metadata": {
    "colab": {
      "provenance": []
    },
    "kernelspec": {
      "display_name": "Python 3",
      "name": "python3"
    },
    "language_info": {
      "codemirror_mode": {
        "name": "ipython",
        "version": 3
      },
      "file_extension": ".py",
      "mimetype": "text/x-python",
      "name": "python",
      "nbconvert_exporter": "python",
      "pygments_lexer": "ipython3",
      "version": "3.10.8"
    }
  },
  "nbformat": 4,
  "nbformat_minor": 0
}
