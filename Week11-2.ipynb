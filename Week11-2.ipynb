{
 "cells": [
  {
   "cell_type": "markdown",
   "metadata": {},
   "source": [
    "# The key terms for today\n",
    "\n",
    "* pretrain\n",
    "* finetune\n",
    "* zero shot"
   ]
  },
  {
   "cell_type": "markdown",
   "metadata": {},
   "source": [
    "When we talk about transformers, we divide the entire machine learning process into four stages:\n",
    "\n",
    "1. pretrain - on your pretraining data\n",
    "2. finetune - on your training data\n",
    "3. test - on your development data (then loop back to 2 as needed)\n",
    "4. evaluate - on your test data "
   ]
  }
 ],
 "metadata": {
  "language_info": {
   "name": "python"
  }
 },
 "nbformat": 4,
 "nbformat_minor": 2
}
