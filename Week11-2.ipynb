{
 "cells": [
  {
   "cell_type": "markdown",
   "metadata": {},
   "source": [
    "# The key terms for today\n",
    "\n",
    "* transfer learning\n",
    "* pretrain\n",
    "* finetune\n",
    "* zero shot"
   ]
  },
  {
   "cell_type": "markdown",
   "metadata": {},
   "source": [
    "When we talk about transformers, we divide the entire machine learning process into four stages:\n",
    "\n",
    "1. pretrain - on your pretraining data\n",
    "2. finetune - on your training data\n",
    "3. test - on your development data (then loop back to 2 as needed)\n",
    "4. evaluate - on your test data \n",
    "\n",
    "Steps 2 and 3 are called **transfer learning**."
   ]
  },
  {
   "cell_type": "markdown",
   "metadata": {},
   "source": [
    "Today we will first look at [this huggingface course page](https://huggingface.co/learn/nlp-course/chapter1/4).\n",
    "\n",
    "Then we will work through [Chapter 3](https://huggingface.co/learn/nlp-course/chapter3/1?fw=pt) of the huggingface course together to practice transfer learning."
   ]
  }
 ],
 "metadata": {
  "language_info": {
   "name": "python"
  }
 },
 "nbformat": 4,
 "nbformat_minor": 2
}
