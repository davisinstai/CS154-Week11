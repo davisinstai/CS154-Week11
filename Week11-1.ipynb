{
 "cells": [
  {
   "attachments": {},
   "cell_type": "markdown",
   "id": "b5e78268",
   "metadata": {},
   "source": [
    "# The key terms for today\n",
    "\n",
    "* supervised\n",
    "* unsupervised\n",
    "* classification\n",
    "* clustering\n",
    "* reinforcement learning"
   ]
  },
  {
   "attachments": {},
   "cell_type": "markdown",
   "id": "482c7d82",
   "metadata": {},
   "source": [
    "# Let's talk about machine learning\n",
    "\n",
    "The phrase \"machine learning\" refers to any method for approximating a solution to a problem for which we don't have an analytical solution (an algorithmic solution) through examining data. The basic taxonomy of machine learning approaches is depicted below:\n",
    "\n",
    "![ML algorithms](https://blogs.sas.com/content/subconsciousmusings/files/2017/04/machine-learning-cheet-sheet-2.png)\n",
    "\n",
    "*Image from https://blogs.sas.com/content/subconsciousmusings/*\n",
    "\n",
    "However, this diagram does not include a third major class of ML algorithm, reinforcement learning, which has been used (among many other applications!) to develop ChatGPT."
   ]
  },
  {
   "attachments": {},
   "cell_type": "markdown",
   "id": "6f4a8497",
   "metadata": {},
   "source": [
    "When we talk about machine learning, we talk about:\n",
    "* *fitting* (or *training*) a *prediction function*, or *model*, to\n",
    "* *training* data, experimenting with various\n",
    "* *hyperparameters* related to the *model architecture* using held-out\n",
    "* *development* data, so that the resulting model generalizes well, making good *predictions* on held-out\n",
    "* *test* (or *evaluation*) data\n",
    "\n",
    "The goal of unsupervised learning is to uncover latent structure or patterns in the data. An example of unsupervised learning is k-means clustering. The goal of supervised learning is to learn to match the labels (or answers, or ground truth, or dependent variable) in the data. An example of supervised learning is regression. \n",
    "\n",
    "We will spend the rest of the semester looking at three supervised ML algorithms:\n",
    "* k-nearest neighbors\n",
    "* naive Bayes\n",
    "* radial basis function networks (a type of neural network)\n",
    "\n",
    "If you want to investigate ML further, here is a great python library for ML:\n",
    "* scikit-learn (sklearn): https://scikit-learn.org/stable/index.html\n",
    "(you will use sklearn for Lab 6)\n",
    "\n",
    "Sklearn uses a pattern; for each ML algorithm, there is a fit function (for training), a predict function (for inference or testing), and a score function (for evaluation).\n",
    "\n",
    "We evaluate models / prediction functions using [any number of metrics](https://scikit-learn.org/stable/modules/model_evaluation.html). A commonly used one for supervised machine learning is:\n",
    "* accuracy - what percent of the data points were classified correctly?\n",
    "\n",
    "Of course, accuracy is just one number. To get a clearer understanding, we can construct a\n",
    "* confusion matrix\n",
    "\n",
    "which has the classes (the labels) along rows and columns, and in each cell indicates the number of data points classified as *row* that are truly in class *column*. \n",
    "\n",
    "We will look more at confusion matrices later this week."
   ]
  }
 ],
 "metadata": {
  "kernelspec": {
   "display_name": "Python 3",
   "language": "python",
   "name": "python3"
  },
  "language_info": {
   "codemirror_mode": {
    "name": "ipython",
    "version": 3
   },
   "file_extension": ".py",
   "mimetype": "text/x-python",
   "name": "python",
   "nbconvert_exporter": "python",
   "pygments_lexer": "ipython3",
   "version": "3.10.4"
  },
  "vscode": {
   "interpreter": {
    "hash": "3ad933181bd8a04b432d3370b9dc3b0662ad032c4dfaa4e4f1596c548f763858"
   }
  }
 },
 "nbformat": 4,
 "nbformat_minor": 5
}
